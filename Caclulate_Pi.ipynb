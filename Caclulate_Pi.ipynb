{
  "cells": [
    {
      "cell_type": "markdown",
      "id": "e5f1d8a8",
      "metadata": {
        "id": "e5f1d8a8"
      },
      "source": [
        "> For this problem, I will be using the <a href='https://en.wikipedia.org/wiki/Bailey%E2%80%93Borwein%E2%80%93Plouffe_formula'>BBP</a> formula to calculate $\\pi$ to 100 digits. \n",
        "\n",
        "> The Bailey–Borwein–Plouffe (BBP) formula is as follows:\n",
        "\n",
        "> $$ \\pi = \\sum_{n=0}^\\infty \\frac{1}{16^n} \\left( \\frac{4}{8n+1} - \\frac{2}{8n+4} - \\frac{1}{8n+5} - \\frac{1}{8n+6} \\right) $$\n",
        "\n",
        "> However, there is a subtlety associated with including this number of digits that we need to address. This subtlety is that maximum number of digits that can represented on a copmuter according to the <a href='https://en.wikipedia.org/wiki/Decimal128_floating-point_format'> decimal128</a> floating point format is 34 digits. To get around this limitation, I will be using the <a href='https://mpmath.org/'>mpmath</a> library which will allow us to accurately represet this irrational number accurately up to a 100 digits. \n",
        "\n",
        "> First, I will implement the BBP formula using a serial program. Then I will implement two parallel version of it. The first version will make use of the multiprocessing library and will run the program locally on the 8 cores available on my computer. The second parallel version will be implement using OPENMPI to run the implement BBP on eight cores as well. The performance in each case will be compared."
      ]
    },
    {
      "cell_type": "markdown",
      "id": "dfcacd17",
      "metadata": {
        "id": "dfcacd17"
      },
      "source": [
        "### Serial BBP implementation"
      ]
    },
    {
      "cell_type": "code",
      "execution_count": null,
      "id": "ba66d346",
      "metadata": {
        "id": "ba66d346",
        "outputId": "1438289a-8ebb-403f-8d64-0bd26adc4007"
      },
      "outputs": [
        {
          "name": "stdout",
          "output_type": "stream",
          "text": [
            "Computed pi value is: \n",
            "3.1415926535897932384626433832795028841971693993751058209749445923078164062862089986280348253421170679\n",
            "Known pi value is: \n",
            "3.1415926535897932384626433832795028841971693993751058209749445923078164062862089986280348253421170679\n",
            "The number of different digits is: 0\n",
            "Total time taken: 17.0354 seconds\n"
          ]
        }
      ],
      "source": [
        "# The serial version of BPP is implemented in the file named serial-pi.py\n",
        "# Assuming you have all the dependencies installed \n",
        "# you can run the included python script as follows:\n",
        "!python serial-pi.py"
      ]
    },
    {
      "cell_type": "code",
      "execution_count": null,
      "id": "943beb8c",
      "metadata": {
        "id": "943beb8c",
        "outputId": "f48a6c48-8c2a-4dfc-b1e9-e362965cc033"
      },
      "outputs": [
        {
          "name": "stdout",
          "output_type": "stream",
          "text": [
            "Computed pi value is: \n",
            "3.14159265358979\n",
            "Known pi value is: \n",
            "3.1415926535897932384626433832795028841971693993751058209749445923078164062862089986280348253421170679\n",
            "The number of different digits is: 0\n",
            "Total time taken: 6.2711 seconds\n"
          ]
        }
      ],
      "source": [
        "# The first parallel version implemented through the multiprocessing library \n",
        "# is in multiprocessing-pi.py\n",
        "# Assuming you have all the dependencies installed \n",
        "# you can run the included python script as follows:\n",
        "!python multiprocessing-pi.py"
      ]
    },
    {
      "cell_type": "code",
      "execution_count": null,
      "id": "8f5b1548",
      "metadata": {
        "id": "8f5b1548",
        "outputId": "17b9f01a-140c-49d0-9655-31a6d82c9449"
      },
      "outputs": [
        {
          "name": "stdout",
          "output_type": "stream",
          "text": [
            "Computed pi value is: \n",
            "3.1415926535897932384626433832795028841971693993751058209749445923078164062862089986280348253421170679\n",
            "Known pi value is: \n",
            "3.1415926535897932384626433832795028841971693993751058209749445923078164062862089986280348253421170679\n",
            "The number of different digits is: 0\n",
            "Total time taken: 3.8117 seconds\n"
          ]
        }
      ],
      "source": [
        "# The second parallel version implemented through OPENMPI is in mpi-pi.py\n",
        "# Assuming you have all the dependencies installed \n",
        "# you can run the included python script as follows:\n",
        "!mpiexec -np 8 python mpi-pi.py"
      ]
    },
    {
      "cell_type": "markdown",
      "id": "2086388f",
      "metadata": {
        "id": "2086388f"
      },
      "source": [
        "> As we can see both the parallel version ar much faster than the serial version. The multiprocessing version is about 3 times faster than the serial implementation while the OPENMPI version is about 4 times faster than the serial version. This also goes to show how powerful MPI is."
      ]
    },
    {
      "cell_type": "markdown",
      "id": "8192e455",
      "metadata": {
        "id": "8192e455"
      },
      "source": [
        "> I did a quick benchmark of the performance improvent as the number of cores increased using OPENMPI and the results are below:"
      ]
    },
    {
      "cell_type": "code",
      "execution_count": null,
      "id": "fea43b69",
      "metadata": {
        "id": "fea43b69",
        "outputId": "eec8233b-cce8-4585-84b0-8406b8d19dd2"
      },
      "outputs": [
        {
          "data": {
            "image/png": "[encoded data removed]",
            "text/plain": [
              "<Figure size 640x480 with 1 Axes>"
            ]
          },
          "metadata": {},
          "output_type": "display_data"
        }
      ],
      "source": [
        "from matplotlib import pyplot as plt\n",
        "run_times = [17.0550,8.4965,6.0658,5.4285,4.7260,4.1331,3.9767,3.9160]\n",
        "cores = [1,2,3,4,5,6,7,8]\n",
        "plt.plot(cores,run_times,'-o');\n",
        "plt.xlabel('number of cores');\n",
        "plt.ylabel('Time (seconds)');"
      ]
    }
  ],
  "metadata": {
    "kernelspec": {
      "display_name": "Python 3 (ipykernel)",
      "language": "python",
      "name": "python3"
    },
    "language_info": {
      "codemirror_mode": {
        "name": "ipython",
        "version": 3
      },
      "file_extension": ".py",
      "mimetype": "text/x-python",
      "name": "python",
      "nbconvert_exporter": "python",
      "pygments_lexer": "ipython3",
      "version": "3.9.13"
    },
    "vscode": {
      "interpreter": {
        "hash": "029fbf9ed10cb4630195d60f39f3bd7ad4581d95a76a3de3de33abf558061660"
      }
    },
    "colab": {
      "provenance": []
    }
  },
  "nbformat": 4,
  "nbformat_minor": 5
}